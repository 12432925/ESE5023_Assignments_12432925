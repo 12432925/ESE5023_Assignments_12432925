{
 "cells": [
  {
   "cell_type": "markdown",
   "id": "ab2de2f8",
   "metadata": {},
   "source": [
    "### Score: `[106]`\n",
    "\n",
    "Q1. `[10]` Good job! \n",
    "\n",
    "Q2. `[11]` Good job! \n",
    "\n",
    "Q3. `[22]` Good job! 注意提问。\n",
    "\n",
    "Q4. `[25]` 没有遍历所有子集。\n",
    "\n",
    "Q5. `[38]` Good job!"
   ]
  },
  {
   "cell_type": "code",
   "execution_count": 1,
   "id": "f46dcae4-68ef-4dd2-be78-c31615177a91",
   "metadata": {},
   "outputs": [
    {
     "name": "stdout",
     "output_type": "stream",
     "text": [
      "10 5 1\n"
     ]
    }
   ],
   "source": [
    "#第一题\n",
    "#定义函数，变量\n",
    "def Print_values(a,b,c):\n",
    "#条件判断\n",
    "  if a>b:\n",
    "      if b>c:\n",
    "         print(a,b,c)#a>b>c\n",
    "      else:\n",
    "            if a>c:\n",
    "                print(a,c,b)#a>c>b\n",
    "            else: \n",
    "                print(c,a,b)#c>a>b\n",
    "  else:\n",
    "       if b>c:\n",
    "          print(\"b max\")#b is the biggest but can\"t compare a with c.\n",
    "       else:\n",
    "           print(c,b,a)#c>b>a\n",
    "\n",
    "#判定\n",
    "Print_values(10,5,1) "
   ]
  },
  {
   "cell_type": "code",
   "execution_count": 2,
   "id": "efa59495-da57-4c72-8973-bde4781f7cd6",
   "metadata": {},
   "outputs": [],
   "source": [
    "# NOTE: 表达式最好写到 Print_values 函数中，\n",
    "result=10+5-10*1"
   ]
  },
  {
   "cell_type": "code",
   "execution_count": 3,
   "id": "1babd28d-443b-4685-9349-d1a8c7696742",
   "metadata": {},
   "outputs": [
    {
     "name": "stdout",
     "output_type": "stream",
     "text": [
      "5\n"
     ]
    }
   ],
   "source": [
    "print(result)"
   ]
  },
  {
   "cell_type": "code",
   "execution_count": 5,
   "id": "1feb3a3c-2622-4a9b-944d-14ceb1172376",
   "metadata": {},
   "outputs": [
    {
     "name": "stdout",
     "output_type": "stream",
     "text": [
      "[1, 5, 7, 13, 15, 17, 21, 23, 25, 33, 305]\n"
     ]
    }
   ],
   "source": [
    "#第二题\n",
    "#定义函数,分类讨论\n",
    "def F(x):\n",
    "    if x==1: #x=1，直接输出F（1）=1\n",
    "       return 1\n",
    "#继续运算      \n",
    "    if  x%3 == 0: #不用取整\n",
    "        i = x // 3\n",
    "    else:\n",
    "           i = x // 3+1 #取整\n",
    "    return F(i)+2*x  \n",
    "#创建列表，N=10，1-10的正整数\n",
    "list=[1, 2, 3, 4, 5, 6, 7, 8, 9, 10, 100]\n",
    "\n",
    "#逐个运用F(x)，输出结果\n",
    "results=[F(x) for x in list]\n",
    "print(results)\n",
    "           "
   ]
  },
  {
   "cell_type": "code",
   "execution_count": 7,
   "id": "6c362f12-3e87-4501-bebc-b7efbc0895af",
   "metadata": {},
   "outputs": [
    {
     "name": "stdout",
     "output_type": "stream",
     "text": [
      "4395456\n"
     ]
    }
   ],
   "source": [
    "#第三题，第一问\n",
    "# 共投骰，目标和，初始骰子数，累积数字\n",
    "def Find_number_of_ways(num_dice, target_sum, dice_count=0, current_sum=0):\n",
    "\n",
    "#当骰子投完，检查所得总和与目标总和是否相同，如果相同有效组合加一，如果不同，为0。\n",
    "    if num_dice == dice_count:\n",
    "         if current_sum == target_sum:\n",
    "           return 1\n",
    "         else:\n",
    "           return 0  \n",
    "             \n",
    "#如果所得数字大于目标，组合无效,不用再投\n",
    "    if current_sum > target_sum:\n",
    "            return 0\n",
    "        \n",
    "    number_of_ways = 0\n",
    "    \n",
    "#对于每个面值(1-6)，递归调用函数，骰子数量加1，当前总和加上当前骰子的面值\n",
    "    for face in range(1, 7):\n",
    "        number_of_ways += Find_number_of_ways(num_dice, target_sum, dice_count + 1, current_sum + face)\n",
    "# 返回得到目标总和的所有方法数        \n",
    "    return number_of_ways\n",
    "    \n",
    "     \n",
    "number_of_ways = Find_number_of_ways(10, 35)\n",
    "print(number_of_ways)\n",
    "   "
   ]
  },
  {
   "cell_type": "code",
   "execution_count": 10,
   "id": "b0feaf0b-50f5-4fb9-ad48-9ca4e68bde14",
   "metadata": {},
   "outputs": [
    {
     "name": "stdout",
     "output_type": "stream",
     "text": [
      "35\n",
      "4395456\n"
     ]
    }
   ],
   "source": [
    "#第三题，第二问\n",
    "#由第一问可得：用十个骰子获得特定总和的有效组合数\n",
    "# NOTE: 之前已定义的 Find_number_of_ways 函数，这里可以不用再写一遍了\n",
    "def Find_number_of_ways(num_dice, target_sum, dice_count=0, current_sum=0):\n",
    "\n",
    "    if num_dice == dice_count:\n",
    "         if current_sum == target_sum:\n",
    "           return 1\n",
    "         else:\n",
    "           return 0  \n",
    "             \n",
    "    if current_sum > target_sum:\n",
    "            return 0\n",
    "        \n",
    "    number_of_ways = 0\n",
    "    \n",
    "    for face in range(1, 7):\n",
    "        number_of_ways += Find_number_of_ways(num_dice, target_sum, dice_count + 1, current_sum + face)\n",
    "      \n",
    "    return number_of_ways\n",
    "    \n",
    "#使用Find_number_of_ways计算方法数，储存在Number_of_ways列表中       \n",
    "\n",
    "#创建一个空的列表\n",
    "Number_of_ways = []\n",
    "\n",
    "#遍历x=10~60的每个总和的所有方法数\n",
    "for x in range(10, 61):\n",
    "    number_of_ways = Find_number_of_ways(10, x)\n",
    "    Number_of_ways.append(number_of_ways)\n",
    "\n",
    "#找到方法数最多的总和\n",
    "max_index =Number_of_ways.index(max(Number_of_ways))\n",
    "max_sum = max_index + 10\n",
    "\n",
    "#输出结果\n",
    "print(max_sum)\n",
    "print(max(Number_of_ways))"
   ]
  },
  {
   "cell_type": "code",
   "execution_count": 8,
   "id": "df28811e-c9ca-4039-ae65-cbc3b6a25d00",
   "metadata": {},
   "outputs": [
    {
     "name": "stdout",
     "output_type": "stream",
     "text": [
      "[7, 5, 7, 1, 8]\n"
     ]
    }
   ],
   "source": [
    "#第四题，第一问\n",
    "import random\n",
    "\n",
    "#数组长度为N\n",
    "def Random_integer(N):\n",
    "    \n",
    "# 创建空列表来存储随机整数\n",
    "    random_array = []\n",
    "    \n",
    "# 循环N次，每次生成一个0到10之间的随机整数并添加到列表中\n",
    "    for i in range(0,N):\n",
    "        random_number = random.randint(0, 10)\n",
    "        random_array.append(random_number)\n",
    "    return random_array\n",
    "\n",
    "#当N=5时，输出结果\n",
    "random_array = Random_integer(5)\n",
    "print(random_array)"
   ]
  },
  {
   "cell_type": "code",
   "execution_count": 9,
   "id": "0832cf97-d8bb-4fc6-870c-43b7f591b0e5",
   "metadata": {},
   "outputs": [
    {
     "name": "stdout",
     "output_type": "stream",
     "text": [
      "69.68333333333334\n"
     ]
    }
   ],
   "source": [
    "#第四题，第二问 \n",
    "def Sum_averages(arry):\n",
    "    total_sum = 0\n",
    "    n = len(arry)\n",
    "    \n",
    "# BUG: 这样的双循环没有遍历所有的子集\n",
    "# 比如 13\n",
    "\n",
    "# 使用双重循环生成所有子集\n",
    "    for i in range(n):\n",
    "        for j in range(i, n):\n",
    "# 生成子集 arry[i:j+1] 1 12 123 2 23 3\n",
    "            subset = arry[i:j+1]\n",
    "# 计算子集的和\n",
    "            subset_sum = sum(subset)\n",
    "# 计算子集的平均值\n",
    "            subset_average = subset_sum / len(subset)\n",
    "# 将平均值累加到总和中\n",
    "            total_sum += subset_average\n",
    "    \n",
    "    return total_sum\n",
    "\n",
    "arry = [1, 2, 6, 6, 8]\n",
    "result = Sum_averages(arry)\n",
    "print(result)\n",
    "\n"
   ]
  },
  {
   "cell_type": "code",
   "execution_count": 27,
   "id": "d7286eac-b0f1-4855-8fce-e93d17613ac8",
   "metadata": {},
   "outputs": [
    {
     "data": {
      "image/png": "[encoded data removed]",
      "text/plain": [
       "<Figure size 640x480 with 1 Axes>"
      ]
     },
     "metadata": {},
     "output_type": "display_data"
    }
   ],
   "source": [
    "#第四题，第三问 \n",
    "import matplotlib.pyplot as plt\n",
    "\n",
    "#由第二问可得\n",
    "def Sum_averages(arry):\n",
    "    total_sum = 0\n",
    "    n = len(arry)\n",
    "    for i in range(n):\n",
    "        for j in range(i, n):\n",
    "            subset = arry[i:j+1]\n",
    "            subset_sum = sum(subset)\n",
    "            subset_average = subset_sum / len(subset)\n",
    "            total_sum += subset_average    \n",
    "    return total_sum\n",
    "\n",
    "# 生成 Total_sum_averages ，N ：1~100\n",
    "Total_sum_averages = []\n",
    "\n",
    "for N in range(1, 101):\n",
    "# 生成 1 到 N 的数组\n",
    "    arry = list(range(1, N+1)) \n",
    "# 计算当前数组的子集平均值总和\n",
    "    result = Sum_averages(arry) \n",
    "# 添加到列表中\n",
    "    Total_sum_averages.append(result) \n",
    "\n",
    "# 绘制 Total_sum_averages\n",
    "plt.plot(range(1, 101), Total_sum_averages, marker='o')\n",
    "plt.title(\"Sum of Averages with N from 1 to 100\")\n",
    "plt.xlabel(\"N \")\n",
    "plt.ylabel(\"Sum of Averages\")\n",
    "plt.grid(True)\n",
    "plt.show()\n"
   ]
  },
  {
   "cell_type": "code",
   "execution_count": 11,
   "id": "78be7a70-605c-4ad0-8d2d-cb3829b2da1d",
   "metadata": {},
   "outputs": [
    {
     "name": "stdout",
     "output_type": "stream",
     "text": [
      "[1, 0, 0, 1]\n",
      "[0, 0, 1, 1]\n",
      "[0, 1, 0, 1]\n",
      "[0, 0, 1, 1]\n"
     ]
    }
   ],
   "source": [
    "#第五题，第一问\n",
    "#创建一个N行M列的矩阵\n",
    "import random\n",
    "def create_matrix(N, M):\n",
    "    matrix = [[0 for i in range(M)] for j in range(N)]\n",
    "    matrix[0][0] = 1 #左上角1\n",
    "    matrix[N-1][M-1] = 1 #右下角1\n",
    "\n",
    "#除去左上角和右下角的每一行每一列上的每个位置，随机填充0或1   \n",
    "    for i in range(M):\n",
    "        for j in range(N):\n",
    "            if (i, j) != (0, 0) and (i, j) != (M-1, N-1):\n",
    "                matrix[i][j] = random.randint(0, 1)\n",
    "    return matrix\n",
    "\n",
    "matrix = create_matrix(4, 4)\n",
    "\n",
    "# 遍历每一行，逐行打印\n",
    "for i in range(4):  \n",
    "    x = matrix[i] \n",
    "    print(x) "
   ]
  },
  {
   "cell_type": "code",
   "execution_count": 14,
   "id": "a60b08f2-98e7-49c1-ab4a-c046599ecef3",
   "metadata": {},
   "outputs": [
    {
     "name": "stdout",
     "output_type": "stream",
     "text": [
      "[1, 1, 1, 0]\n",
      "[1, 0, 1, 1]\n",
      "[1, 0, 1, 1]\n",
      "[1, 1, 1, 1]\n",
      "4\n"
     ]
    }
   ],
   "source": [
    "#第五题，第二问 \n",
    "#由第一问可得\n",
    "import random\n",
    "def create_matrix(N, M):\n",
    "    matrix = [[0 for i in range(M)] for j in range(N)]\n",
    "    matrix[0][0] = 1 \n",
    "    matrix[N-1][M-1] = 1    \n",
    "    for i in range(M):\n",
    "        for j in range(N):\n",
    "            if (i, j) != (0, 0) and (i, j) != (M-1, N-1):\n",
    "                matrix[i][j] = random.randint(0, 1)\n",
    "    return matrix\n",
    "matrix = create_matrix(4, 4)\n",
    "for i in range(4):  \n",
    "    x = matrix[i] \n",
    "    print(x) \n",
    "\n",
    "#定义函数   \n",
    "def Count_path(matrix, i=0, j=0):\n",
    "    # 获取矩阵的行数和列数\n",
    "    N = len(matrix)\n",
    "    M = len(matrix)\n",
    "    \n",
    "    # 如果当前单元格是障碍物，返回 0，表示没有路径\n",
    "    if matrix[i][j] == 0:\n",
    "        return 0\n",
    "    \n",
    "    # 如果我们已经到达右下角，返回 1，表示找到一条路径\n",
    "    if i == N - 1 and j == M - 1:\n",
    "        return 1\n",
    "    \n",
    "    # 初始化路径计数\n",
    "    path_count = 0\n",
    "    \n",
    "    # 尝试向右移动，如果没有越界，调用递归函数Cp，0则停止，1则前进\n",
    "    if j + 1 < M:\n",
    "        path_count += Count_path(matrix, i, j + 1)\n",
    "    \n",
    "    # 尝试向下移动，同理\n",
    "    if i + 1 < N:\n",
    "        path_count += Count_path(matrix, i + 1, j)\n",
    "    \n",
    "    return path_count\n",
    "\n",
    "#运算\n",
    "result = Count_path(matrix)\n",
    "print(result)\n"
   ]
  },
  {
   "cell_type": "code",
   "execution_count": 19,
   "id": "508a6539-00a8-4751-9d4e-c4c4c08b29c0",
   "metadata": {},
   "outputs": [
    {
     "name": "stdout",
     "output_type": "stream",
     "text": [
      "0.303\n"
     ]
    }
   ],
   "source": [
    "#第五题，第三问\n",
    "#由第一问可得\n",
    "import random\n",
    "def create_matrix(N, M):\n",
    "    matrix = [[0 for j in range(M)] for i in range(N)] \n",
    "    matrix[0][0] = 1  \n",
    "    matrix[N-1][M-1] = 1 \n",
    "    for i in range(N):  # \n",
    "        for j in range(M): \n",
    "            if (i, j) != (0, 0) and (i, j) != (N-1, M-1):\n",
    "                matrix[i][j] = random.randint(0, 1) \n",
    "    return matrix\n",
    "\n",
    "#定义函数   \n",
    "def Count_path(matrix, i=0, j=0):\n",
    "    # 获取矩阵的行数和列数\n",
    "    N = len(matrix)\n",
    "    M = len(matrix[0])\n",
    "    \n",
    "    # 如果当前单元格是障碍物，返回 0，表示没有路径\n",
    "    if matrix[i][j] == 0:\n",
    "        return 0\n",
    "    \n",
    "    # 如果我们已经到达右下角，返回 1，表示找到一条路径\n",
    "    if i == N - 1 and j == M - 1:\n",
    "        return 1\n",
    "    \n",
    "    # 初始化路径计数\n",
    "    path_count = 0\n",
    "    \n",
    "    # 尝试向右移动，如果没有越界，调用递归函数Cp，0则停止，1则前进\n",
    "    if j + 1 < M:\n",
    "        path_count += Count_path(matrix, i, j + 1)\n",
    "    \n",
    "    # 尝试向下移动，同理\n",
    "    if i + 1 < N:\n",
    "        path_count += Count_path(matrix, i + 1, j)\n",
    "    \n",
    "    return path_count\n",
    "\n",
    "#循环1000次\n",
    "def run_experiment(N, M, n):\n",
    "    total_paths = 0\n",
    "    \n",
    "    for i in range(n):\n",
    "        matrix = create_matrix(N, M)  # 生成随机矩阵\n",
    "        paths = Count_path(matrix)  # 计算路径数量\n",
    "        total_paths += paths  # 累加每次的路径数\n",
    "    \n",
    "    mean_paths = total_paths / n  # 计算平均路径数\n",
    "    return mean_paths\n",
    "\n",
    "#输入参数\n",
    "N=10\n",
    "M=8\n",
    "n=1000\n",
    "# 运行实验并计算平均路径数    \n",
    "mean_paths = run_experiment(N, M, n)\n",
    "print(mean_paths)"
   ]
  },
  {
   "cell_type": "code",
   "execution_count": null,
   "id": "a95ea8ba-ce53-4c5c-b760-8a0984cf4579",
   "metadata": {},
   "outputs": [],
   "source": []
  },
  {
   "cell_type": "code",
   "execution_count": null,
   "id": "9572d3df-f9fe-461a-bfaa-d4b6e5607c67",
   "metadata": {},
   "outputs": [],
   "source": []
  }
 ],
 "metadata": {
  "kernelspec": {
   "display_name": "ese5023",
   "language": "python",
   "name": "python3"
  },
  "language_info": {
   "codemirror_mode": {
    "name": "ipython",
    "version": 3
   },
   "file_extension": ".py",
   "mimetype": "text/x-python",
   "name": "python",
   "nbconvert_exporter": "python",
   "pygments_lexer": "ipython3",
   "version": "3.11.0"
  }
 },
 "nbformat": 4,
 "nbformat_minor": 5
}
